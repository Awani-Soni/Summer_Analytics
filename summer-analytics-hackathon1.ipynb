{
 "cells": [
  {
   "cell_type": "code",
   "execution_count": 1,
   "id": "39dbe901",
   "metadata": {
    "_cell_guid": "b1076dfc-b9ad-4769-8c92-a6c4dae69d19",
    "_uuid": "8f2839f25d086af736a60e9eeb907d3b93b6e0e5",
    "execution": {
     "iopub.execute_input": "2025-06-08T10:01:30.734051Z",
     "iopub.status.busy": "2025-06-08T10:01:30.733667Z",
     "iopub.status.idle": "2025-06-08T10:01:32.811764Z",
     "shell.execute_reply": "2025-06-08T10:01:32.810492Z"
    },
    "papermill": {
     "duration": 2.086238,
     "end_time": "2025-06-08T10:01:32.813684",
     "exception": false,
     "start_time": "2025-06-08T10:01:30.727446",
     "status": "completed"
    },
    "tags": []
   },
   "outputs": [
    {
     "name": "stdout",
     "output_type": "stream",
     "text": [
      "/kaggle/input/summer-analytics-mid-hackathon/hacktest.csv\n",
      "/kaggle/input/summer-analytics-mid-hackathon/hacktrain.csv\n"
     ]
    }
   ],
   "source": [
    "# This Python 3 environment comes with many helpful analytics libraries installed\n",
    "# It is defined by the kaggle/python Docker image: https://github.com/kaggle/docker-python\n",
    "# For example, here's several helpful packages to load\n",
    "\n",
    "import numpy as np # linear algebra\n",
    "import pandas as pd # data processing, CSV file I/O (e.g. pd.read_csv)\n",
    "\n",
    "# Input data files are available in the read-only \"../input/\" directory\n",
    "# For example, running this (by clicking run or pressing Shift+Enter) will list all files under the input directory\n",
    "\n",
    "import os\n",
    "for dirname, _, filenames in os.walk('/kaggle/input'):\n",
    "    for filename in filenames:\n",
    "        print(os.path.join(dirname, filename))\n",
    "\n",
    "# You can write up to 20GB to the current directory (/kaggle/working/) that gets preserved as output when you create a version using \"Save & Run All\" \n",
    "# You can also write temporary files to /kaggle/temp/, but they won't be saved outside of the current session"
   ]
  },
  {
   "cell_type": "code",
   "execution_count": 2,
   "id": "1502e37d",
   "metadata": {
    "execution": {
     "iopub.execute_input": "2025-06-08T10:01:32.824447Z",
     "iopub.status.busy": "2025-06-08T10:01:32.823872Z",
     "iopub.status.idle": "2025-06-08T10:01:32.935478Z",
     "shell.execute_reply": "2025-06-08T10:01:32.934296Z"
    },
    "papermill": {
     "duration": 0.118284,
     "end_time": "2025-06-08T10:01:32.937049",
     "exception": false,
     "start_time": "2025-06-08T10:01:32.818765",
     "status": "completed"
    },
    "tags": []
   },
   "outputs": [
    {
     "name": "stderr",
     "output_type": "stream",
     "text": [
      "/usr/local/lib/python3.11/dist-packages/pandas/io/formats/format.py:1458: RuntimeWarning: invalid value encountered in greater\n",
      "  has_large_values = (abs_vals > 1e6).any()\n",
      "/usr/local/lib/python3.11/dist-packages/pandas/io/formats/format.py:1459: RuntimeWarning: invalid value encountered in less\n",
      "  has_small_values = ((abs_vals < 10 ** (-self.digits)) & (abs_vals > 0)).any()\n",
      "/usr/local/lib/python3.11/dist-packages/pandas/io/formats/format.py:1459: RuntimeWarning: invalid value encountered in greater\n",
      "  has_small_values = ((abs_vals < 10 ** (-self.digits)) & (abs_vals > 0)).any()\n",
      "/usr/local/lib/python3.11/dist-packages/pandas/io/formats/format.py:1458: RuntimeWarning: invalid value encountered in greater\n",
      "  has_large_values = (abs_vals > 1e6).any()\n",
      "/usr/local/lib/python3.11/dist-packages/pandas/io/formats/format.py:1459: RuntimeWarning: invalid value encountered in less\n",
      "  has_small_values = ((abs_vals < 10 ** (-self.digits)) & (abs_vals > 0)).any()\n",
      "/usr/local/lib/python3.11/dist-packages/pandas/io/formats/format.py:1459: RuntimeWarning: invalid value encountered in greater\n",
      "  has_small_values = ((abs_vals < 10 ** (-self.digits)) & (abs_vals > 0)).any()\n"
     ]
    },
    {
     "data": {
      "text/html": [
       "<div>\n",
       "<style scoped>\n",
       "    .dataframe tbody tr th:only-of-type {\n",
       "        vertical-align: middle;\n",
       "    }\n",
       "\n",
       "    .dataframe tbody tr th {\n",
       "        vertical-align: top;\n",
       "    }\n",
       "\n",
       "    .dataframe thead th {\n",
       "        text-align: right;\n",
       "    }\n",
       "</style>\n",
       "<table border=\"1\" class=\"dataframe\">\n",
       "  <thead>\n",
       "    <tr style=\"text-align: right;\">\n",
       "      <th></th>\n",
       "      <th>Unnamed: 0</th>\n",
       "      <th>ID</th>\n",
       "      <th>class</th>\n",
       "      <th>20150720_N</th>\n",
       "      <th>20150602_N</th>\n",
       "      <th>20150517_N</th>\n",
       "      <th>20150501_N</th>\n",
       "      <th>20150415_N</th>\n",
       "      <th>20150330_N</th>\n",
       "      <th>20150314_N</th>\n",
       "      <th>...</th>\n",
       "      <th>20140610_N</th>\n",
       "      <th>20140525_N</th>\n",
       "      <th>20140509_N</th>\n",
       "      <th>20140423_N</th>\n",
       "      <th>20140407_N</th>\n",
       "      <th>20140322_N</th>\n",
       "      <th>20140218_N</th>\n",
       "      <th>20140202_N</th>\n",
       "      <th>20140117_N</th>\n",
       "      <th>20140101_N</th>\n",
       "    </tr>\n",
       "  </thead>\n",
       "  <tbody>\n",
       "    <tr>\n",
       "      <th>0</th>\n",
       "      <td>0</td>\n",
       "      <td>1</td>\n",
       "      <td>water</td>\n",
       "      <td>637.5950</td>\n",
       "      <td>658.668</td>\n",
       "      <td>-1882.030</td>\n",
       "      <td>-1924.36</td>\n",
       "      <td>997.904</td>\n",
       "      <td>-1739.990</td>\n",
       "      <td>630.087</td>\n",
       "      <td>...</td>\n",
       "      <td>NaN</td>\n",
       "      <td>-1043.160</td>\n",
       "      <td>-1942.490</td>\n",
       "      <td>267.138</td>\n",
       "      <td>NaN</td>\n",
       "      <td>NaN</td>\n",
       "      <td>211.328</td>\n",
       "      <td>-2203.020</td>\n",
       "      <td>-1180.19</td>\n",
       "      <td>433.906</td>\n",
       "    </tr>\n",
       "    <tr>\n",
       "      <th>1</th>\n",
       "      <td>1</td>\n",
       "      <td>2</td>\n",
       "      <td>water</td>\n",
       "      <td>634.2400</td>\n",
       "      <td>593.705</td>\n",
       "      <td>-1625.790</td>\n",
       "      <td>-1672.32</td>\n",
       "      <td>914.198</td>\n",
       "      <td>-692.386</td>\n",
       "      <td>707.626</td>\n",
       "      <td>...</td>\n",
       "      <td>NaN</td>\n",
       "      <td>-933.934</td>\n",
       "      <td>-625.385</td>\n",
       "      <td>120.059</td>\n",
       "      <td>364.858</td>\n",
       "      <td>476.972</td>\n",
       "      <td>220.878</td>\n",
       "      <td>-2250.000</td>\n",
       "      <td>-1360.56</td>\n",
       "      <td>524.075</td>\n",
       "    </tr>\n",
       "    <tr>\n",
       "      <th>2</th>\n",
       "      <td>3</td>\n",
       "      <td>4</td>\n",
       "      <td>water</td>\n",
       "      <td>58.0174</td>\n",
       "      <td>-1599.160</td>\n",
       "      <td>NaN</td>\n",
       "      <td>-1052.63</td>\n",
       "      <td>NaN</td>\n",
       "      <td>-1564.630</td>\n",
       "      <td>NaN</td>\n",
       "      <td>...</td>\n",
       "      <td>-1025.88</td>\n",
       "      <td>368.622</td>\n",
       "      <td>NaN</td>\n",
       "      <td>-1227.800</td>\n",
       "      <td>304.621</td>\n",
       "      <td>NaN</td>\n",
       "      <td>369.214</td>\n",
       "      <td>-2202.120</td>\n",
       "      <td>NaN</td>\n",
       "      <td>-1343.550</td>\n",
       "    </tr>\n",
       "    <tr>\n",
       "      <th>3</th>\n",
       "      <td>4</td>\n",
       "      <td>5</td>\n",
       "      <td>water</td>\n",
       "      <td>72.5180</td>\n",
       "      <td>NaN</td>\n",
       "      <td>380.436</td>\n",
       "      <td>-1256.93</td>\n",
       "      <td>515.805</td>\n",
       "      <td>-1413.180</td>\n",
       "      <td>-802.942</td>\n",
       "      <td>...</td>\n",
       "      <td>-1813.95</td>\n",
       "      <td>155.624</td>\n",
       "      <td>NaN</td>\n",
       "      <td>-924.073</td>\n",
       "      <td>432.150</td>\n",
       "      <td>282.833</td>\n",
       "      <td>298.320</td>\n",
       "      <td>-2197.360</td>\n",
       "      <td>NaN</td>\n",
       "      <td>-826.727</td>\n",
       "    </tr>\n",
       "    <tr>\n",
       "      <th>4</th>\n",
       "      <td>7</td>\n",
       "      <td>8</td>\n",
       "      <td>water</td>\n",
       "      <td>1136.4400</td>\n",
       "      <td>NaN</td>\n",
       "      <td>NaN</td>\n",
       "      <td>1647.83</td>\n",
       "      <td>1935.800</td>\n",
       "      <td>NaN</td>\n",
       "      <td>2158.980</td>\n",
       "      <td>...</td>\n",
       "      <td>1535.00</td>\n",
       "      <td>1959.430</td>\n",
       "      <td>-279.317</td>\n",
       "      <td>-384.915</td>\n",
       "      <td>-113.406</td>\n",
       "      <td>1020.720</td>\n",
       "      <td>1660.650</td>\n",
       "      <td>-116.801</td>\n",
       "      <td>-568.05</td>\n",
       "      <td>-1357.140</td>\n",
       "    </tr>\n",
       "  </tbody>\n",
       "</table>\n",
       "<p>5 rows × 30 columns</p>\n",
       "</div>"
      ],
      "text/plain": [
       "   Unnamed: 0  ID  class  20150720_N  20150602_N  20150517_N  20150501_N  \\\n",
       "0           0   1  water    637.5950     658.668   -1882.030    -1924.36   \n",
       "1           1   2  water    634.2400     593.705   -1625.790    -1672.32   \n",
       "2           3   4  water     58.0174   -1599.160         NaN    -1052.63   \n",
       "3           4   5  water     72.5180         NaN     380.436    -1256.93   \n",
       "4           7   8  water   1136.4400         NaN         NaN     1647.83   \n",
       "\n",
       "   20150415_N  20150330_N  20150314_N  ...  20140610_N  20140525_N  \\\n",
       "0     997.904   -1739.990     630.087  ...         NaN   -1043.160   \n",
       "1     914.198    -692.386     707.626  ...         NaN    -933.934   \n",
       "2         NaN   -1564.630         NaN  ...    -1025.88     368.622   \n",
       "3     515.805   -1413.180    -802.942  ...    -1813.95     155.624   \n",
       "4    1935.800         NaN    2158.980  ...     1535.00    1959.430   \n",
       "\n",
       "   20140509_N  20140423_N  20140407_N  20140322_N  20140218_N  20140202_N  \\\n",
       "0   -1942.490     267.138         NaN         NaN     211.328   -2203.020   \n",
       "1    -625.385     120.059     364.858     476.972     220.878   -2250.000   \n",
       "2         NaN   -1227.800     304.621         NaN     369.214   -2202.120   \n",
       "3         NaN    -924.073     432.150     282.833     298.320   -2197.360   \n",
       "4    -279.317    -384.915    -113.406    1020.720    1660.650    -116.801   \n",
       "\n",
       "   20140117_N  20140101_N  \n",
       "0    -1180.19     433.906  \n",
       "1    -1360.56     524.075  \n",
       "2         NaN   -1343.550  \n",
       "3         NaN    -826.727  \n",
       "4     -568.05   -1357.140  \n",
       "\n",
       "[5 rows x 30 columns]"
      ]
     },
     "execution_count": 2,
     "metadata": {},
     "output_type": "execute_result"
    }
   ],
   "source": [
    "df = pd.read_csv(\"/kaggle/input/summer-analytics-mid-hackathon/hacktrain.csv\")\n",
    "df.head()"
   ]
  },
  {
   "cell_type": "code",
   "execution_count": 3,
   "id": "717bf380",
   "metadata": {
    "execution": {
     "iopub.execute_input": "2025-06-08T10:01:32.947932Z",
     "iopub.status.busy": "2025-06-08T10:01:32.947580Z",
     "iopub.status.idle": "2025-06-08T10:01:32.976929Z",
     "shell.execute_reply": "2025-06-08T10:01:32.975834Z"
    },
    "papermill": {
     "duration": 0.036793,
     "end_time": "2025-06-08T10:01:32.978782",
     "exception": false,
     "start_time": "2025-06-08T10:01:32.941989",
     "status": "completed"
    },
    "tags": []
   },
   "outputs": [
    {
     "name": "stdout",
     "output_type": "stream",
     "text": [
      "<class 'pandas.core.frame.DataFrame'>\n",
      "RangeIndex: 8000 entries, 0 to 7999\n",
      "Data columns (total 30 columns):\n",
      " #   Column      Non-Null Count  Dtype  \n",
      "---  ------      --------------  -----  \n",
      " 0   Unnamed: 0  8000 non-null   int64  \n",
      " 1   ID          8000 non-null   int64  \n",
      " 2   class       8000 non-null   object \n",
      " 3   20150720_N  7440 non-null   float64\n",
      " 4   20150602_N  6800 non-null   float64\n",
      " 5   20150517_N  7200 non-null   float64\n",
      " 6   20150501_N  7040 non-null   float64\n",
      " 7   20150415_N  7520 non-null   float64\n",
      " 8   20150330_N  6880 non-null   float64\n",
      " 9   20150314_N  7280 non-null   float64\n",
      " 10  20150226_N  6640 non-null   float64\n",
      " 11  20150210_N  7360 non-null   float64\n",
      " 12  20150125_N  6960 non-null   float64\n",
      " 13  20150109_N  7120 non-null   float64\n",
      " 14  20141117_N  6720 non-null   float64\n",
      " 15  20141101_N  7600 non-null   float64\n",
      " 16  20141016_N  6560 non-null   float64\n",
      " 17  20140930_N  7200 non-null   float64\n",
      " 18  20140813_N  7440 non-null   float64\n",
      " 19  20140626_N  6400 non-null   float64\n",
      " 20  20140610_N  7520 non-null   float64\n",
      " 21  20140525_N  7280 non-null   float64\n",
      " 22  20140509_N  7120 non-null   float64\n",
      " 23  20140423_N  6240 non-null   float64\n",
      " 24  20140407_N  7360 non-null   float64\n",
      " 25  20140322_N  6880 non-null   float64\n",
      " 26  20140218_N  6560 non-null   float64\n",
      " 27  20140202_N  7440 non-null   float64\n",
      " 28  20140117_N  6800 non-null   float64\n",
      " 29  20140101_N  7600 non-null   float64\n",
      "dtypes: float64(27), int64(2), object(1)\n",
      "memory usage: 1.8+ MB\n"
     ]
    }
   ],
   "source": [
    "df.info()"
   ]
  },
  {
   "cell_type": "code",
   "execution_count": 4,
   "id": "9a76c512",
   "metadata": {
    "execution": {
     "iopub.execute_input": "2025-06-08T10:01:32.989839Z",
     "iopub.status.busy": "2025-06-08T10:01:32.989519Z",
     "iopub.status.idle": "2025-06-08T10:01:33.001921Z",
     "shell.execute_reply": "2025-06-08T10:01:33.000677Z"
    },
    "papermill": {
     "duration": 0.020196,
     "end_time": "2025-06-08T10:01:33.003757",
     "exception": false,
     "start_time": "2025-06-08T10:01:32.983561",
     "status": "completed"
    },
    "tags": []
   },
   "outputs": [
    {
     "data": {
      "text/plain": [
       "Unnamed: 0       0\n",
       "ID               0\n",
       "class            0\n",
       "20150720_N     560\n",
       "20150602_N    1200\n",
       "20150517_N     800\n",
       "20150501_N     960\n",
       "20150415_N     480\n",
       "20150330_N    1120\n",
       "20150314_N     720\n",
       "20150226_N    1360\n",
       "20150210_N     640\n",
       "20150125_N    1040\n",
       "20150109_N     880\n",
       "20141117_N    1280\n",
       "20141101_N     400\n",
       "20141016_N    1440\n",
       "20140930_N     800\n",
       "20140813_N     560\n",
       "20140626_N    1600\n",
       "20140610_N     480\n",
       "20140525_N     720\n",
       "20140509_N     880\n",
       "20140423_N    1760\n",
       "20140407_N     640\n",
       "20140322_N    1120\n",
       "20140218_N    1440\n",
       "20140202_N     560\n",
       "20140117_N    1200\n",
       "20140101_N     400\n",
       "dtype: int64"
      ]
     },
     "execution_count": 4,
     "metadata": {},
     "output_type": "execute_result"
    }
   ],
   "source": [
    "df.isnull().sum()"
   ]
  },
  {
   "cell_type": "code",
   "execution_count": 5,
   "id": "ee69f420",
   "metadata": {
    "execution": {
     "iopub.execute_input": "2025-06-08T10:01:33.015402Z",
     "iopub.status.busy": "2025-06-08T10:01:33.014682Z",
     "iopub.status.idle": "2025-06-08T10:01:33.021861Z",
     "shell.execute_reply": "2025-06-08T10:01:33.020587Z"
    },
    "papermill": {
     "duration": 0.014723,
     "end_time": "2025-06-08T10:01:33.023583",
     "exception": false,
     "start_time": "2025-06-08T10:01:33.008860",
     "status": "completed"
    },
    "tags": []
   },
   "outputs": [
    {
     "data": {
      "text/plain": [
       "array(['water', 'forest', 'impervious', 'farm', 'grass', 'orchard'],\n",
       "      dtype=object)"
      ]
     },
     "execution_count": 5,
     "metadata": {},
     "output_type": "execute_result"
    }
   ],
   "source": [
    "df['class'].unique()"
   ]
  },
  {
   "cell_type": "code",
   "execution_count": 6,
   "id": "9cf71fbf",
   "metadata": {
    "execution": {
     "iopub.execute_input": "2025-06-08T10:01:33.034911Z",
     "iopub.status.busy": "2025-06-08T10:01:33.034553Z",
     "iopub.status.idle": "2025-06-08T10:01:33.044474Z",
     "shell.execute_reply": "2025-06-08T10:01:33.043265Z"
    },
    "papermill": {
     "duration": 0.017656,
     "end_time": "2025-06-08T10:01:33.046306",
     "exception": false,
     "start_time": "2025-06-08T10:01:33.028650",
     "status": "completed"
    },
    "tags": []
   },
   "outputs": [
    {
     "data": {
      "text/plain": [
       "class\n",
       "forest        6159\n",
       "farm           841\n",
       "impervious     669\n",
       "grass          196\n",
       "water          105\n",
       "orchard         30\n",
       "Name: count, dtype: int64"
      ]
     },
     "execution_count": 6,
     "metadata": {},
     "output_type": "execute_result"
    }
   ],
   "source": [
    "df['class'].value_counts()"
   ]
  },
  {
   "cell_type": "code",
   "execution_count": 7,
   "id": "7fc97ee9",
   "metadata": {
    "execution": {
     "iopub.execute_input": "2025-06-08T10:01:33.057716Z",
     "iopub.status.busy": "2025-06-08T10:01:33.057400Z",
     "iopub.status.idle": "2025-06-08T10:01:33.071274Z",
     "shell.execute_reply": "2025-06-08T10:01:33.069932Z"
    },
    "papermill": {
     "duration": 0.021602,
     "end_time": "2025-06-08T10:01:33.072936",
     "exception": false,
     "start_time": "2025-06-08T10:01:33.051334",
     "status": "completed"
    },
    "tags": []
   },
   "outputs": [
    {
     "data": {
      "text/plain": [
       "20140423_N    1760\n",
       "20140626_N    1600\n",
       "20140218_N    1440\n",
       "20141016_N    1440\n",
       "20150226_N    1360\n",
       "20141117_N    1280\n",
       "20140117_N    1200\n",
       "20150602_N    1200\n",
       "20140322_N    1120\n",
       "20150330_N    1120\n",
       "20150125_N    1040\n",
       "20150501_N     960\n",
       "20140509_N     880\n",
       "20150109_N     880\n",
       "20140930_N     800\n",
       "20150517_N     800\n",
       "20140525_N     720\n",
       "20150314_N     720\n",
       "20140407_N     640\n",
       "20150210_N     640\n",
       "20140202_N     560\n",
       "20150720_N     560\n",
       "20140813_N     560\n",
       "20140610_N     480\n",
       "20150415_N     480\n",
       "20141101_N     400\n",
       "20140101_N     400\n",
       "dtype: int64"
      ]
     },
     "execution_count": 7,
     "metadata": {},
     "output_type": "execute_result"
    }
   ],
   "source": [
    "missing = df.isnull().sum()\n",
    "missing[missing > 0].sort_values(ascending=False)"
   ]
  },
  {
   "cell_type": "code",
   "execution_count": 8,
   "id": "32889169",
   "metadata": {
    "execution": {
     "iopub.execute_input": "2025-06-08T10:01:33.085694Z",
     "iopub.status.busy": "2025-06-08T10:01:33.084691Z",
     "iopub.status.idle": "2025-06-08T10:01:33.160438Z",
     "shell.execute_reply": "2025-06-08T10:01:33.159508Z"
    },
    "papermill": {
     "duration": 0.083459,
     "end_time": "2025-06-08T10:01:33.162005",
     "exception": false,
     "start_time": "2025-06-08T10:01:33.078546",
     "status": "completed"
    },
    "tags": []
   },
   "outputs": [
    {
     "data": {
      "text/html": [
       "<div>\n",
       "<style scoped>\n",
       "    .dataframe tbody tr th:only-of-type {\n",
       "        vertical-align: middle;\n",
       "    }\n",
       "\n",
       "    .dataframe tbody tr th {\n",
       "        vertical-align: top;\n",
       "    }\n",
       "\n",
       "    .dataframe thead th {\n",
       "        text-align: right;\n",
       "    }\n",
       "</style>\n",
       "<table border=\"1\" class=\"dataframe\">\n",
       "  <thead>\n",
       "    <tr style=\"text-align: right;\">\n",
       "      <th></th>\n",
       "      <th>mean</th>\n",
       "      <th>std</th>\n",
       "      <th>min</th>\n",
       "      <th>max</th>\n",
       "    </tr>\n",
       "  </thead>\n",
       "  <tbody>\n",
       "    <tr>\n",
       "      <th>20150720_N</th>\n",
       "      <td>5845.48</td>\n",
       "      <td>2261.41</td>\n",
       "      <td>-433.74</td>\n",
       "      <td>8376.15</td>\n",
       "    </tr>\n",
       "    <tr>\n",
       "      <th>20150602_N</th>\n",
       "      <td>4868.09</td>\n",
       "      <td>2758.50</td>\n",
       "      <td>-1781.79</td>\n",
       "      <td>8566.42</td>\n",
       "    </tr>\n",
       "    <tr>\n",
       "      <th>20150517_N</th>\n",
       "      <td>4469.84</td>\n",
       "      <td>2876.22</td>\n",
       "      <td>-2939.74</td>\n",
       "      <td>8650.50</td>\n",
       "    </tr>\n",
       "    <tr>\n",
       "      <th>20150501_N</th>\n",
       "      <td>5193.49</td>\n",
       "      <td>2510.39</td>\n",
       "      <td>-1924.36</td>\n",
       "      <td>8516.10</td>\n",
       "    </tr>\n",
       "    <tr>\n",
       "      <th>20150415_N</th>\n",
       "      <td>2927.59</td>\n",
       "      <td>2728.33</td>\n",
       "      <td>-1794.87</td>\n",
       "      <td>8267.12</td>\n",
       "    </tr>\n",
       "    <tr>\n",
       "      <th>20150330_N</th>\n",
       "      <td>4924.49</td>\n",
       "      <td>2600.42</td>\n",
       "      <td>-1848.91</td>\n",
       "      <td>8499.33</td>\n",
       "    </tr>\n",
       "    <tr>\n",
       "      <th>20150314_N</th>\n",
       "      <td>3313.88</td>\n",
       "      <td>2434.83</td>\n",
       "      <td>-1574.97</td>\n",
       "      <td>8001.70</td>\n",
       "    </tr>\n",
       "    <tr>\n",
       "      <th>20150226_N</th>\n",
       "      <td>4987.52</td>\n",
       "      <td>2674.96</td>\n",
       "      <td>-2532.49</td>\n",
       "      <td>8452.38</td>\n",
       "    </tr>\n",
       "    <tr>\n",
       "      <th>20150210_N</th>\n",
       "      <td>4320.96</td>\n",
       "      <td>2807.50</td>\n",
       "      <td>-3403.05</td>\n",
       "      <td>8422.06</td>\n",
       "    </tr>\n",
       "    <tr>\n",
       "      <th>20150125_N</th>\n",
       "      <td>5237.04</td>\n",
       "      <td>2762.49</td>\n",
       "      <td>-2849.86</td>\n",
       "      <td>8401.10</td>\n",
       "    </tr>\n",
       "    <tr>\n",
       "      <th>20150109_N</th>\n",
       "      <td>2217.83</td>\n",
       "      <td>2207.59</td>\n",
       "      <td>-3099.71</td>\n",
       "      <td>8477.56</td>\n",
       "    </tr>\n",
       "    <tr>\n",
       "      <th>20141117_N</th>\n",
       "      <td>3262.55</td>\n",
       "      <td>2651.32</td>\n",
       "      <td>-1570.78</td>\n",
       "      <td>8592.41</td>\n",
       "    </tr>\n",
       "    <tr>\n",
       "      <th>20141101_N</th>\n",
       "      <td>2613.62</td>\n",
       "      <td>2292.52</td>\n",
       "      <td>-86.02</td>\n",
       "      <td>7913.82</td>\n",
       "    </tr>\n",
       "    <tr>\n",
       "      <th>20141016_N</th>\n",
       "      <td>2801.92</td>\n",
       "      <td>2460.41</td>\n",
       "      <td>-1633.98</td>\n",
       "      <td>8630.42</td>\n",
       "    </tr>\n",
       "    <tr>\n",
       "      <th>20140930_N</th>\n",
       "      <td>2416.23</td>\n",
       "      <td>2430.16</td>\n",
       "      <td>-456.56</td>\n",
       "      <td>8210.23</td>\n",
       "    </tr>\n",
       "    <tr>\n",
       "      <th>20140813_N</th>\n",
       "      <td>1570.87</td>\n",
       "      <td>1055.59</td>\n",
       "      <td>-1137.17</td>\n",
       "      <td>5606.31</td>\n",
       "    </tr>\n",
       "    <tr>\n",
       "      <th>20140626_N</th>\n",
       "      <td>2990.75</td>\n",
       "      <td>1692.90</td>\n",
       "      <td>414.14</td>\n",
       "      <td>7492.23</td>\n",
       "    </tr>\n",
       "    <tr>\n",
       "      <th>20140610_N</th>\n",
       "      <td>4872.68</td>\n",
       "      <td>2776.14</td>\n",
       "      <td>-2683.60</td>\n",
       "      <td>8489.97</td>\n",
       "    </tr>\n",
       "    <tr>\n",
       "      <th>20140525_N</th>\n",
       "      <td>3674.89</td>\n",
       "      <td>2331.11</td>\n",
       "      <td>-1043.16</td>\n",
       "      <td>7981.82</td>\n",
       "    </tr>\n",
       "    <tr>\n",
       "      <th>20140509_N</th>\n",
       "      <td>3012.18</td>\n",
       "      <td>2068.33</td>\n",
       "      <td>-2435.90</td>\n",
       "      <td>8445.41</td>\n",
       "    </tr>\n",
       "    <tr>\n",
       "      <th>20140423_N</th>\n",
       "      <td>3055.17</td>\n",
       "      <td>2209.99</td>\n",
       "      <td>-1505.78</td>\n",
       "      <td>7762.98</td>\n",
       "    </tr>\n",
       "    <tr>\n",
       "      <th>20140407_N</th>\n",
       "      <td>2041.32</td>\n",
       "      <td>2040.35</td>\n",
       "      <td>-1445.37</td>\n",
       "      <td>8078.08</td>\n",
       "    </tr>\n",
       "    <tr>\n",
       "      <th>20140322_N</th>\n",
       "      <td>2799.82</td>\n",
       "      <td>2452.56</td>\n",
       "      <td>55.56</td>\n",
       "      <td>8216.70</td>\n",
       "    </tr>\n",
       "    <tr>\n",
       "      <th>20140218_N</th>\n",
       "      <td>2144.36</td>\n",
       "      <td>2267.61</td>\n",
       "      <td>-232.29</td>\n",
       "      <td>8247.63</td>\n",
       "    </tr>\n",
       "    <tr>\n",
       "      <th>20140202_N</th>\n",
       "      <td>6259.06</td>\n",
       "      <td>1825.56</td>\n",
       "      <td>-2729.43</td>\n",
       "      <td>8410.33</td>\n",
       "    </tr>\n",
       "    <tr>\n",
       "      <th>20140117_N</th>\n",
       "      <td>2629.20</td>\n",
       "      <td>2386.15</td>\n",
       "      <td>-2139.86</td>\n",
       "      <td>8418.23</td>\n",
       "    </tr>\n",
       "    <tr>\n",
       "      <th>20140101_N</th>\n",
       "      <td>2578.45</td>\n",
       "      <td>2436.27</td>\n",
       "      <td>-4145.25</td>\n",
       "      <td>8502.02</td>\n",
       "    </tr>\n",
       "  </tbody>\n",
       "</table>\n",
       "</div>"
      ],
      "text/plain": [
       "               mean      std      min      max\n",
       "20150720_N  5845.48  2261.41  -433.74  8376.15\n",
       "20150602_N  4868.09  2758.50 -1781.79  8566.42\n",
       "20150517_N  4469.84  2876.22 -2939.74  8650.50\n",
       "20150501_N  5193.49  2510.39 -1924.36  8516.10\n",
       "20150415_N  2927.59  2728.33 -1794.87  8267.12\n",
       "20150330_N  4924.49  2600.42 -1848.91  8499.33\n",
       "20150314_N  3313.88  2434.83 -1574.97  8001.70\n",
       "20150226_N  4987.52  2674.96 -2532.49  8452.38\n",
       "20150210_N  4320.96  2807.50 -3403.05  8422.06\n",
       "20150125_N  5237.04  2762.49 -2849.86  8401.10\n",
       "20150109_N  2217.83  2207.59 -3099.71  8477.56\n",
       "20141117_N  3262.55  2651.32 -1570.78  8592.41\n",
       "20141101_N  2613.62  2292.52   -86.02  7913.82\n",
       "20141016_N  2801.92  2460.41 -1633.98  8630.42\n",
       "20140930_N  2416.23  2430.16  -456.56  8210.23\n",
       "20140813_N  1570.87  1055.59 -1137.17  5606.31\n",
       "20140626_N  2990.75  1692.90   414.14  7492.23\n",
       "20140610_N  4872.68  2776.14 -2683.60  8489.97\n",
       "20140525_N  3674.89  2331.11 -1043.16  7981.82\n",
       "20140509_N  3012.18  2068.33 -2435.90  8445.41\n",
       "20140423_N  3055.17  2209.99 -1505.78  7762.98\n",
       "20140407_N  2041.32  2040.35 -1445.37  8078.08\n",
       "20140322_N  2799.82  2452.56    55.56  8216.70\n",
       "20140218_N  2144.36  2267.61  -232.29  8247.63\n",
       "20140202_N  6259.06  1825.56 -2729.43  8410.33\n",
       "20140117_N  2629.20  2386.15 -2139.86  8418.23\n",
       "20140101_N  2578.45  2436.27 -4145.25  8502.02"
      ]
     },
     "execution_count": 8,
     "metadata": {},
     "output_type": "execute_result"
    }
   ],
   "source": [
    "ndvi_cols = [col for col in df.columns if '_N' in col]\n",
    "\n",
    "df[ndvi_cols].describe().round(2).T[['mean', 'std', 'min', 'max']]"
   ]
  },
  {
   "cell_type": "code",
   "execution_count": 9,
   "id": "1b04d154",
   "metadata": {
    "execution": {
     "iopub.execute_input": "2025-06-08T10:01:33.174155Z",
     "iopub.status.busy": "2025-06-08T10:01:33.173815Z",
     "iopub.status.idle": "2025-06-08T10:01:33.747764Z",
     "shell.execute_reply": "2025-06-08T10:01:33.746855Z"
    },
    "papermill": {
     "duration": 0.582147,
     "end_time": "2025-06-08T10:01:33.749699",
     "exception": false,
     "start_time": "2025-06-08T10:01:33.167552",
     "status": "completed"
    },
    "tags": []
   },
   "outputs": [
    {
     "data": {
      "image/png": "[encoded data removed]",
      "text/plain": [
       "<Figure size 800x500 with 1 Axes>"
      ]
     },
     "metadata": {},
     "output_type": "display_data"
    }
   ],
   "source": [
    "import matplotlib.pyplot as plt\n",
    "\n",
    "sample_forest = df[df['class'] == 'forest'].iloc[0]\n",
    "sample_water = df[df['class'] == 'water'].iloc[0]\n",
    "sample_farm = df[df['class'] == 'farm'].iloc[0]\n",
    "\n",
    "plt.figure(figsize=(8,5))\n",
    "plt.plot(ndvi_cols, sample_forest[ndvi_cols], label='forest')\n",
    "plt.plot(ndvi_cols, sample_water[ndvi_cols], label='water')\n",
    "plt.plot(ndvi_cols, sample_farm[ndvi_cols], label='farm')\n",
    "plt.xticks(rotation=90)\n",
    "plt.legend()\n",
    "plt.title('NDVI Time Series for Sample Areas')\n",
    "plt.tight_layout()\n",
    "plt.show()"
   ]
  },
  {
   "cell_type": "code",
   "execution_count": 10,
   "id": "a46a475f",
   "metadata": {
    "execution": {
     "iopub.execute_input": "2025-06-08T10:01:33.764228Z",
     "iopub.status.busy": "2025-06-08T10:01:33.763867Z",
     "iopub.status.idle": "2025-06-08T10:01:43.871640Z",
     "shell.execute_reply": "2025-06-08T10:01:43.870198Z"
    },
    "papermill": {
     "duration": 10.117848,
     "end_time": "2025-06-08T10:01:43.874268",
     "exception": false,
     "start_time": "2025-06-08T10:01:33.756420",
     "status": "completed"
    },
    "tags": []
   },
   "outputs": [],
   "source": [
    "from sklearn.impute import KNNImputer\n",
    "\n",
    "ndvi_cols = [col for col in df.columns if '_N' in col]\n",
    "ndvi_data = df[ndvi_cols]\n",
    "\n",
    "imputer = KNNImputer(n_neighbors=5)  \n",
    "df[ndvi_cols] = imputer.fit_transform(ndvi_data)"
   ]
  },
  {
   "cell_type": "code",
   "execution_count": 11,
   "id": "7240f484",
   "metadata": {
    "execution": {
     "iopub.execute_input": "2025-06-08T10:01:43.890138Z",
     "iopub.status.busy": "2025-06-08T10:01:43.889618Z",
     "iopub.status.idle": "2025-06-08T10:01:43.901264Z",
     "shell.execute_reply": "2025-06-08T10:01:43.900235Z"
    },
    "papermill": {
     "duration": 0.021151,
     "end_time": "2025-06-08T10:01:43.902902",
     "exception": false,
     "start_time": "2025-06-08T10:01:43.881751",
     "status": "completed"
    },
    "tags": []
   },
   "outputs": [
    {
     "data": {
      "text/plain": [
       "Unnamed: 0    0\n",
       "ID            0\n",
       "class         0\n",
       "20150720_N    0\n",
       "20150602_N    0\n",
       "20150517_N    0\n",
       "20150501_N    0\n",
       "20150415_N    0\n",
       "20150330_N    0\n",
       "20150314_N    0\n",
       "20150226_N    0\n",
       "20150210_N    0\n",
       "20150125_N    0\n",
       "20150109_N    0\n",
       "20141117_N    0\n",
       "20141101_N    0\n",
       "20141016_N    0\n",
       "20140930_N    0\n",
       "20140813_N    0\n",
       "20140626_N    0\n",
       "20140610_N    0\n",
       "20140525_N    0\n",
       "20140509_N    0\n",
       "20140423_N    0\n",
       "20140407_N    0\n",
       "20140322_N    0\n",
       "20140218_N    0\n",
       "20140202_N    0\n",
       "20140117_N    0\n",
       "20140101_N    0\n",
       "dtype: int64"
      ]
     },
     "execution_count": 11,
     "metadata": {},
     "output_type": "execute_result"
    }
   ],
   "source": [
    "df.isnull().sum()"
   ]
  },
  {
   "cell_type": "code",
   "execution_count": 12,
   "id": "b6a3211e",
   "metadata": {
    "execution": {
     "iopub.execute_input": "2025-06-08T10:01:43.919279Z",
     "iopub.status.busy": "2025-06-08T10:01:43.917985Z",
     "iopub.status.idle": "2025-06-08T10:01:44.380998Z",
     "shell.execute_reply": "2025-06-08T10:01:44.379893Z"
    },
    "papermill": {
     "duration": 0.473128,
     "end_time": "2025-06-08T10:01:44.382632",
     "exception": false,
     "start_time": "2025-06-08T10:01:43.909504",
     "status": "completed"
    },
    "tags": []
   },
   "outputs": [
    {
     "data": {
      "image/png": "[encoded data removed]",
      "text/plain": [
       "<Figure size 800x500 with 1 Axes>"
      ]
     },
     "metadata": {},
     "output_type": "display_data"
    }
   ],
   "source": [
    "sample_forest = df[df['class'] == 'forest'].iloc[0]\n",
    "sample_water = df[df['class'] == 'water'].iloc[0]\n",
    "sample_farm = df[df['class'] == 'farm'].iloc[0]\n",
    "\n",
    "plt.figure(figsize=(8,5))\n",
    "plt.plot(ndvi_cols, sample_forest[ndvi_cols], label='forest')\n",
    "plt.plot(ndvi_cols, sample_water[ndvi_cols], label='water')\n",
    "plt.plot(ndvi_cols, sample_farm[ndvi_cols], label='farm')\n",
    "plt.xticks(rotation=90)\n",
    "plt.legend()\n",
    "plt.title('NDVI Time Series for Sample Areas')\n",
    "plt.tight_layout()\n",
    "plt.show()"
   ]
  },
  {
   "cell_type": "code",
   "execution_count": 13,
   "id": "6d239643",
   "metadata": {
    "execution": {
     "iopub.execute_input": "2025-06-08T10:01:44.401049Z",
     "iopub.status.busy": "2025-06-08T10:01:44.400679Z",
     "iopub.status.idle": "2025-06-08T10:01:44.484354Z",
     "shell.execute_reply": "2025-06-08T10:01:44.483416Z"
    },
    "papermill": {
     "duration": 0.09576,
     "end_time": "2025-06-08T10:01:44.486684",
     "exception": false,
     "start_time": "2025-06-08T10:01:44.390924",
     "status": "completed"
    },
    "tags": []
   },
   "outputs": [],
   "source": [
    "df['ndvi_mean'] = df[ndvi_cols].mean(axis=1)\n",
    "df['ndvi_std']  = df[ndvi_cols].std(axis=1)\n",
    "df['ndvi_min']  = df[ndvi_cols].min(axis=1)\n",
    "df['ndvi_max']  = df[ndvi_cols].max(axis=1)\n",
    "df['ndvi_range'] = df['ndvi_max'] - df['ndvi_min']\n",
    "df['ndvi_q25']  = df[ndvi_cols].quantile(0.25, axis=1)\n",
    "df['ndvi_q75']  = df[ndvi_cols].quantile(0.75, axis=1)\n",
    "df['ndvi_median'] = df[ndvi_cols].median(axis=1)\n",
    "df['ndvi_skew'] = df[ndvi_cols].skew(axis=1)\n",
    "df['ndvi_positive_days'] = (df[ndvi_cols] > 0).sum(axis=1)"
   ]
  },
  {
   "cell_type": "code",
   "execution_count": 14,
   "id": "9e0c8bf1",
   "metadata": {
    "execution": {
     "iopub.execute_input": "2025-06-08T10:01:44.504714Z",
     "iopub.status.busy": "2025-06-08T10:01:44.504355Z",
     "iopub.status.idle": "2025-06-08T10:01:44.509600Z",
     "shell.execute_reply": "2025-06-08T10:01:44.508616Z"
    },
    "papermill": {
     "duration": 0.016241,
     "end_time": "2025-06-08T10:01:44.511257",
     "exception": false,
     "start_time": "2025-06-08T10:01:44.495016",
     "status": "completed"
    },
    "tags": []
   },
   "outputs": [],
   "source": [
    "feature_cols = ['ndvi_mean', 'ndvi_std', 'ndvi_min', 'ndvi_max', 'ndvi_range', 'ndvi_q25', 'ndvi_q75','ndvi_median','ndvi_skew', 'ndvi_positive_days']"
   ]
  },
  {
   "cell_type": "code",
   "execution_count": 15,
   "id": "e9876872",
   "metadata": {
    "execution": {
     "iopub.execute_input": "2025-06-08T10:01:44.530321Z",
     "iopub.status.busy": "2025-06-08T10:01:44.529956Z",
     "iopub.status.idle": "2025-06-08T10:01:44.537735Z",
     "shell.execute_reply": "2025-06-08T10:01:44.536727Z"
    },
    "papermill": {
     "duration": 0.019787,
     "end_time": "2025-06-08T10:01:44.539662",
     "exception": false,
     "start_time": "2025-06-08T10:01:44.519875",
     "status": "completed"
    },
    "tags": []
   },
   "outputs": [],
   "source": [
    "from sklearn.preprocessing import LabelEncoder\n",
    "\n",
    "le = LabelEncoder()\n",
    "df['class_encoded'] = le.fit_transform(df['class'])  "
   ]
  },
  {
   "cell_type": "code",
   "execution_count": 16,
   "id": "df80f3f4",
   "metadata": {
    "execution": {
     "iopub.execute_input": "2025-06-08T10:01:44.557287Z",
     "iopub.status.busy": "2025-06-08T10:01:44.556923Z",
     "iopub.status.idle": "2025-06-08T10:01:44.572442Z",
     "shell.execute_reply": "2025-06-08T10:01:44.571372Z"
    },
    "papermill": {
     "duration": 0.02635,
     "end_time": "2025-06-08T10:01:44.574163",
     "exception": false,
     "start_time": "2025-06-08T10:01:44.547813",
     "status": "completed"
    },
    "tags": []
   },
   "outputs": [],
   "source": [
    "from sklearn.model_selection import train_test_split\n",
    "\n",
    "X = df[feature_cols]\n",
    "y = df['class_encoded']\n",
    "\n",
    "X_train, X_val, y_train, y_val = train_test_split(X, y, test_size=0.2, random_state=42, stratify=y)"
   ]
  },
  {
   "cell_type": "code",
   "execution_count": 17,
   "id": "deb3acf1",
   "metadata": {
    "execution": {
     "iopub.execute_input": "2025-06-08T10:01:44.593191Z",
     "iopub.status.busy": "2025-06-08T10:01:44.592833Z",
     "iopub.status.idle": "2025-06-08T10:02:09.473625Z",
     "shell.execute_reply": "2025-06-08T10:02:09.472817Z"
    },
    "papermill": {
     "duration": 24.894704,
     "end_time": "2025-06-08T10:02:09.477421",
     "exception": false,
     "start_time": "2025-06-08T10:01:44.582717",
     "status": "completed"
    },
    "tags": []
   },
   "outputs": [
    {
     "name": "stdout",
     "output_type": "stream",
     "text": [
      "Best C: 0.01\n",
      "Best CV accuracy: 0.63515625\n",
      "Validation Accuracy: 0.654375\n"
     ]
    }
   ],
   "source": [
    "from sklearn.linear_model import LogisticRegression\n",
    "from sklearn.model_selection import GridSearchCV\n",
    "from sklearn.preprocessing import StandardScaler\n",
    "from sklearn.metrics import accuracy_score\n",
    "\n",
    "scaler = StandardScaler()\n",
    "X_train_scaled = scaler.fit_transform(X_train)\n",
    "X_val_scaled = scaler.transform(X_val)\n",
    "\n",
    "# Define model\n",
    "model = LogisticRegression(multi_class='multinomial', solver='lbfgs', max_iter=1000, class_weight='balanced')\n",
    "\n",
    "# Define parameters grid to try different C values\n",
    "param_grid = {'C': [0.01, 0.1, 1, 10, 100]}\n",
    "\n",
    "# Set up GridSearch with 5-fold cross-validation\n",
    "grid_search = GridSearchCV(model, param_grid, cv=5, scoring='accuracy')\n",
    "\n",
    "# Fit on training data\n",
    "grid_search.fit(X_train_scaled, y_train)\n",
    "\n",
    "print(\"Best C:\", grid_search.best_params_['C'])\n",
    "\n",
    "print(\"Best CV accuracy:\", grid_search.best_score_)\n",
    "\n",
    "best_model = grid_search.best_estimator_\n",
    "y_pred = best_model.predict(X_val_scaled)\n",
    "print(\"Validation Accuracy:\", accuracy_score(y_val, y_pred))"
   ]
  },
  {
   "cell_type": "code",
   "execution_count": 18,
   "id": "111b3b45",
   "metadata": {
    "execution": {
     "iopub.execute_input": "2025-06-08T10:02:09.509676Z",
     "iopub.status.busy": "2025-06-08T10:02:09.509003Z",
     "iopub.status.idle": "2025-06-08T10:02:09.612481Z",
     "shell.execute_reply": "2025-06-08T10:02:09.611185Z"
    },
    "papermill": {
     "duration": 0.120071,
     "end_time": "2025-06-08T10:02:09.614337",
     "exception": false,
     "start_time": "2025-06-08T10:02:09.494266",
     "status": "completed"
    },
    "tags": []
   },
   "outputs": [],
   "source": [
    "test_df = pd.read_csv('/kaggle/input/summer-analytics-mid-hackathon/hacktest.csv')\n",
    "\n",
    "ndvi_cols = [col for col in test_df.columns if col.endswith('_N')]\n",
    "test_df[ndvi_cols] = imputer.transform(test_df[ndvi_cols])\n",
    "\n",
    "# Create the same features as training\n",
    "test_df['ndvi_mean'] = test_df[ndvi_cols].mean(axis=1)\n",
    "test_df['ndvi_std']  = test_df[ndvi_cols].std(axis=1)\n",
    "test_df['ndvi_min']  = test_df[ndvi_cols].min(axis=1)\n",
    "test_df['ndvi_max']  = test_df[ndvi_cols].max(axis=1)\n",
    "test_df['ndvi_range'] = test_df['ndvi_max'] - test_df['ndvi_min']\n",
    "test_df['ndvi_q25']  = test_df[ndvi_cols].quantile(0.25, axis=1)\n",
    "test_df['ndvi_q75']  = test_df[ndvi_cols].quantile(0.75, axis=1)\n",
    "test_df['ndvi_median'] = test_df[ndvi_cols].median(axis=1)\n",
    "test_df['ndvi_skew'] = test_df[ndvi_cols].skew(axis=1)\n",
    "test_df['ndvi_positive_days'] = (test_df[ndvi_cols] > 0).sum(axis=1)\n",
    "\n",
    "feature_cols = ['ndvi_mean', 'ndvi_std', 'ndvi_min', 'ndvi_max', 'ndvi_range', 'ndvi_q25', 'ndvi_q75','ndvi_median','ndvi_skew', 'ndvi_positive_days']"
   ]
  },
  {
   "cell_type": "code",
   "execution_count": 19,
   "id": "41e9b741",
   "metadata": {
    "execution": {
     "iopub.execute_input": "2025-06-08T10:02:09.633180Z",
     "iopub.status.busy": "2025-06-08T10:02:09.632770Z",
     "iopub.status.idle": "2025-06-08T10:02:09.645741Z",
     "shell.execute_reply": "2025-06-08T10:02:09.644446Z"
    },
    "papermill": {
     "duration": 0.025424,
     "end_time": "2025-06-08T10:02:09.648388",
     "exception": false,
     "start_time": "2025-06-08T10:02:09.622964",
     "status": "completed"
    },
    "tags": []
   },
   "outputs": [],
   "source": [
    "X_test = test_df[feature_cols]\n",
    "X_test_scaled = scaler.transform(X_test)\n",
    "test_pred_encoded = best_model.predict(X_test_scaled)"
   ]
  },
  {
   "cell_type": "code",
   "execution_count": 20,
   "id": "3ff4471e",
   "metadata": {
    "execution": {
     "iopub.execute_input": "2025-06-08T10:02:09.666689Z",
     "iopub.status.busy": "2025-06-08T10:02:09.666374Z",
     "iopub.status.idle": "2025-06-08T10:02:09.672440Z",
     "shell.execute_reply": "2025-06-08T10:02:09.671242Z"
    },
    "papermill": {
     "duration": 0.017016,
     "end_time": "2025-06-08T10:02:09.674226",
     "exception": false,
     "start_time": "2025-06-08T10:02:09.657210",
     "status": "completed"
    },
    "tags": []
   },
   "outputs": [],
   "source": [
    "test_pred = le.inverse_transform(test_pred_encoded)"
   ]
  },
  {
   "cell_type": "code",
   "execution_count": 21,
   "id": "e110de33",
   "metadata": {
    "execution": {
     "iopub.execute_input": "2025-06-08T10:02:09.691505Z",
     "iopub.status.busy": "2025-06-08T10:02:09.691196Z",
     "iopub.status.idle": "2025-06-08T10:02:09.706302Z",
     "shell.execute_reply": "2025-06-08T10:02:09.704999Z"
    },
    "papermill": {
     "duration": 0.025614,
     "end_time": "2025-06-08T10:02:09.707885",
     "exception": false,
     "start_time": "2025-06-08T10:02:09.682271",
     "status": "completed"
    },
    "tags": []
   },
   "outputs": [],
   "source": [
    "submission = pd.DataFrame({\n",
    "    'ID': test_df['ID'],\n",
    "    'class': test_pred\n",
    "})\n",
    "\n",
    "submission.to_csv('submission.csv', index=False)"
   ]
  }
 ],
 "metadata": {
  "kaggle": {
   "accelerator": "none",
   "dataSources": [
    {
     "databundleVersionId": 12585144,
     "sourceId": 104491,
     "sourceType": "competition"
    }
   ],
   "dockerImageVersionId": 31040,
   "isGpuEnabled": false,
   "isInternetEnabled": true,
   "language": "python",
   "sourceType": "notebook"
  },
  "kernelspec": {
   "display_name": "Python 3",
   "language": "python",
   "name": "python3"
  },
  "language_info": {
   "codemirror_mode": {
    "name": "ipython",
    "version": 3
   },
   "file_extension": ".py",
   "mimetype": "text/x-python",
   "name": "python",
   "nbconvert_exporter": "python",
   "pygments_lexer": "ipython3",
   "version": "3.11.11"
  },
  "papermill": {
   "default_parameters": {},
   "duration": 44.765454,
   "end_time": "2025-06-08T10:02:10.439854",
   "environment_variables": {},
   "exception": null,
   "input_path": "__notebook__.ipynb",
   "output_path": "__notebook__.ipynb",
   "parameters": {},
   "start_time": "2025-06-08T10:01:25.674400",
   "version": "2.6.0"
  }
 },
 "nbformat": 4,
 "nbformat_minor": 5
}
